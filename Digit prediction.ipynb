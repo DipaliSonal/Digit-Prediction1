{
 "cells": [
  {
   "cell_type": "code",
   "execution_count": 1,
   "metadata": {},
   "outputs": [],
   "source": [
    "from matplotlib import pyplot as plt\n",
    "from matplotlib import image as Img01\n",
    "from sklearn import datasets, metrics\n",
    "from sklearn.ensemble import RandomForestClassifier\n",
    "from PIL import Image as Img00\n"
   ]
  },
  {
   "cell_type": "code",
   "execution_count": 2,
   "metadata": {},
   "outputs": [],
   "source": [
    "digits = datasets.load_digits()"
   ]
  },
  {
   "cell_type": "code",
   "execution_count": 3,
   "metadata": {},
   "outputs": [
    {
     "data": {
      "text/plain": [
       "array([[ 0.,  0.,  9., 14.,  8.,  1.,  0.,  0.],\n",
       "       [ 0.,  0., 12., 14., 14., 12.,  0.,  0.],\n",
       "       [ 0.,  0.,  9., 10.,  0., 15.,  4.,  0.],\n",
       "       [ 0.,  0.,  3., 16., 12., 14.,  2.,  0.],\n",
       "       [ 0.,  0.,  4., 16., 16.,  2.,  0.,  0.],\n",
       "       [ 0.,  3., 16.,  8., 10., 13.,  2.,  0.],\n",
       "       [ 0.,  1., 15.,  1.,  3., 16.,  8.,  0.],\n",
       "       [ 0.,  0., 11., 16., 15., 11.,  1.,  0.]])"
      ]
     },
     "execution_count": 3,
     "metadata": {},
     "output_type": "execute_result"
    }
   ],
   "source": [
    "digits.images[8]"
   ]
  },
  {
   "cell_type": "code",
   "execution_count": 4,
   "metadata": {},
   "outputs": [
    {
     "data": {
      "text/plain": [
       "<Figure size 432x288 with 0 Axes>"
      ]
     },
     "metadata": {},
     "output_type": "display_data"
    },
    {
     "data": {
      "image/png": "[encoded data removed]",
      "text/plain": [
       "<Figure size 288x288 with 1 Axes>"
      ]
     },
     "metadata": {
      "needs_background": "light"
     },
     "output_type": "display_data"
    }
   ],
   "source": [
    "plt.gray()\n",
    "plt.matshow(digits.images[7])\n",
    "plt.show()"
   ]
  },
  {
   "cell_type": "code",
   "execution_count": 5,
   "metadata": {},
   "outputs": [],
   "source": [
    "n_sample = len(digits.images)\n",
    "data = digits.images.reshape((n_sample,-1))"
   ]
  },
  {
   "cell_type": "code",
   "execution_count": 6,
   "metadata": {},
   "outputs": [
    {
     "data": {
      "text/plain": [
       "array([0, 1, 2, ..., 8, 9, 8])"
      ]
     },
     "execution_count": 6,
     "metadata": {},
     "output_type": "execute_result"
    }
   ],
   "source": [
    "digits.target"
   ]
  },
  {
   "cell_type": "code",
   "execution_count": 7,
   "metadata": {},
   "outputs": [
    {
     "data": {
      "text/plain": [
       "(1797,)"
      ]
     },
     "execution_count": 7,
     "metadata": {},
     "output_type": "execute_result"
    }
   ],
   "source": [
    "digits.target.shape"
   ]
  },
  {
   "cell_type": "code",
   "execution_count": 8,
   "metadata": {},
   "outputs": [
    {
     "data": {
      "image/png": "[encoded data removed]",
      "text/plain": [
       "<Figure size 432x288 with 4 Axes>"
      ]
     },
     "metadata": {
      "needs_background": "light"
     },
     "output_type": "display_data"
    }
   ],
   "source": [
    "image_and_lable = list(zip(digits.images,digits.target))\n",
    "for index,(image,label) in enumerate(image_and_lable[:4]):\n",
    "    plt.subplot(2,4,index+1)\n",
    "    plt.axis('off')\n",
    "    plt.imshow(image)\n",
    "    plt.title('Training %i' %label)"
   ]
  },
  {
   "cell_type": "code",
   "execution_count": 9,
   "metadata": {},
   "outputs": [],
   "source": [
    "model1 = RandomForestClassifier(n_estimators=10,criterion='entropy')"
   ]
  },
  {
   "cell_type": "code",
   "execution_count": 10,
   "metadata": {},
   "outputs": [
    {
     "data": {
      "text/plain": [
       "RandomForestClassifier(bootstrap=True, class_weight=None, criterion='entropy',\n",
       "                       max_depth=None, max_features='auto', max_leaf_nodes=None,\n",
       "                       min_impurity_decrease=0.0, min_impurity_split=None,\n",
       "                       min_samples_leaf=1, min_samples_split=2,\n",
       "                       min_weight_fraction_leaf=0.0, n_estimators=10,\n",
       "                       n_jobs=None, oob_score=False, random_state=None,\n",
       "                       verbose=0, warm_start=False)"
      ]
     },
     "execution_count": 10,
     "metadata": {},
     "output_type": "execute_result"
    }
   ],
   "source": [
    "model1.fit(data[:n_sample//2],digits.target[:n_sample//2])"
   ]
  },
  {
   "cell_type": "code",
   "execution_count": 11,
   "metadata": {},
   "outputs": [],
   "source": [
    "pred = model1.predict(data[n_sample//2:])"
   ]
  },
  {
   "cell_type": "code",
   "execution_count": 12,
   "metadata": {},
   "outputs": [],
   "source": [
    "expected = digits.target[n_sample//2:] "
   ]
  },
  {
   "cell_type": "code",
   "execution_count": 13,
   "metadata": {},
   "outputs": [],
   "source": [
    "image_and_prediction = list(zip(digits.images[n_sample//2:],pred))"
   ]
  },
  {
   "cell_type": "code",
   "execution_count": 14,
   "metadata": {},
   "outputs": [
    {
     "data": {
      "image/png": "[encoded data removed]",
      "text/plain": [
       "<Figure size 432x288 with 5 Axes>"
      ]
     },
     "metadata": {
      "needs_background": "light"
     },
     "output_type": "display_data"
    }
   ],
   "source": [
    "for index,(image1,prediction) in enumerate(image_and_prediction[:5]):\n",
    "    plt.subplot(2,4,index+1)\n",
    "    plt.axis('off')\n",
    "    plt.imshow(image1)\n",
    "    plt.title('Prediction: %i' % prediction)\n",
    "plt.show()"
   ]
  },
  {
   "cell_type": "code",
   "execution_count": 15,
   "metadata": {},
   "outputs": [],
   "source": [
    "Img01.imsave('C:\\\\Users\\\\Pc\\\\Downloads\\\\Random-Forest-Classification-master\\\\Random-Forest-Classification-master\\\\test_data\\\\test11.png',digits.images[1600])"
   ]
  },
  {
   "cell_type": "code",
   "execution_count": 16,
   "metadata": {},
   "outputs": [],
   "source": [
    "Imtest1 = Img00.open('C:\\\\Users\\\\Pc\\\\Downloads\\\\Random-Forest-Classification-master\\\\Random-Forest-Classification-master\\\\test_data\\\\test1.png').convert('L')"
   ]
  },
  {
   "cell_type": "code",
   "execution_count": 17,
   "metadata": {},
   "outputs": [],
   "source": [
    "Imtest2 = Img00.open('C:\\\\Users\\\\Pc\\\\Downloads\\\\Random-Forest-Classification-master\\\\Random-Forest-Classification-master\\\\test_data\\\\test2.png').convert('L')\n"
   ]
  },
  {
   "cell_type": "code",
   "execution_count": 18,
   "metadata": {},
   "outputs": [],
   "source": [
    "Imtest3 = Img00.open('C:\\\\Users\\\\Pc\\\\Downloads\\\\Random-Forest-Classification-master\\\\Random-Forest-Classification-master\\\\test_data\\\\test3.png').convert('L')\n",
    "Imtest4 = Img00.open('C:\\\\Users\\\\Pc\\\\Downloads\\\\Random-Forest-Classification-master\\\\Random-Forest-Classification-master\\\\test_data\\\\test4.png').convert('L')\n",
    "Imtest5 = Img00.open('C:\\\\Users\\\\Pc\\\\Downloads\\\\Random-Forest-Classification-master\\\\Random-Forest-Classification-master\\\\test_data\\\\test5.png').convert('L')\n",
    "Imtest6 = Img00.open('C:\\\\Users\\\\Pc\\\\Downloads\\\\Random-Forest-Classification-master\\\\Random-Forest-Classification-master\\\\test_data\\\\test6.png').convert('L')\n",
    "Imtest7 = Img00.open('C:\\\\Users\\\\Pc\\\\Downloads\\\\Random-Forest-Classification-master\\\\Random-Forest-Classification-master\\\\test_data\\\\test7.png').convert('L')\n",
    "Imtest8 = Img00.open('C:\\\\Users\\\\Pc\\\\Downloads\\\\Random-Forest-Classification-master\\\\Random-Forest-Classification-master\\\\test_data\\\\test8.png').convert('L')\n",
    "Imtest9 = Img00.open('C:\\\\Users\\\\Pc\\\\Downloads\\\\Random-Forest-Classification-master\\\\Random-Forest-Classification-master\\\\test_data\\\\test9.png').convert('L')\n",
    "Imtest10 = Img00.open('C:\\\\Users\\\\Pc\\\\Downloads\\\\Random-Forest-Classification-master\\\\Random-Forest-Classification-master\\\\test_data\\\\test10.png').convert('L')\n"
   ]
  },
  {
   "cell_type": "markdown",
   "metadata": {},
   "source": [
    "Imtest4"
   ]
  },
  {
   "cell_type": "code",
   "execution_count": 19,
   "metadata": {},
   "outputs": [
    {
     "data": {
      "image/png": "[encoded data removed]",
      "text/plain": [
       "<PIL.Image.Image image mode=L size=8x8 at 0x495AD17BE0>"
      ]
     },
     "execution_count": 19,
     "metadata": {},
     "output_type": "execute_result"
    }
   ],
   "source": [
    "Imtest4"
   ]
  },
  {
   "cell_type": "code",
   "execution_count": 20,
   "metadata": {},
   "outputs": [
    {
     "data": {
      "image/png": "[encoded data removed]",
      "text/plain": [
       "<PIL.Image.Image image mode=L size=8x8 at 0x495AD17D68>"
      ]
     },
     "execution_count": 20,
     "metadata": {},
     "output_type": "execute_result"
    }
   ],
   "source": [
    "Imtest6"
   ]
  },
  {
   "cell_type": "code",
   "execution_count": 21,
   "metadata": {},
   "outputs": [
    {
     "data": {
      "image/png": "[encoded data removed]",
      "text/plain": [
       "<PIL.Image.Image image mode=L size=8x8 at 0x495AD17DD8>"
      ]
     },
     "execution_count": 21,
     "metadata": {},
     "output_type": "execute_result"
    }
   ],
   "source": [
    "Imtest8"
   ]
  },
  {
   "cell_type": "code",
   "execution_count": 22,
   "metadata": {},
   "outputs": [],
   "source": [
    "import numpy as np\n",
    "test1 = np.asarray(Imtest1)\n",
    "test2 = np.asarray(Imtest2)\n",
    "test3 = np.asarray(Imtest3)\n",
    "test4 = np.asarray(Imtest4)\n",
    "test5 = np.asarray(Imtest5)\n",
    "test6 = np.asarray(Imtest6)\n",
    "test7 = np.asarray(Imtest7)\n",
    "test8 = np.asarray(Imtest8)\n",
    "test9 = np.asarray(Imtest9)\n",
    "test10 = np.asarray(Imtest10)\n"
   ]
  },
  {
   "cell_type": "code",
   "execution_count": 23,
   "metadata": {},
   "outputs": [],
   "source": [
    "test33 = test3.reshape(64,)\n",
    "            "
   ]
  },
  {
   "cell_type": "code",
   "execution_count": 24,
   "metadata": {},
   "outputs": [
    {
     "data": {
      "text/plain": [
       "(8, 8)"
      ]
     },
     "execution_count": 24,
     "metadata": {},
     "output_type": "execute_result"
    }
   ],
   "source": [
    "test3.shape"
   ]
  },
  {
   "cell_type": "code",
   "execution_count": 25,
   "metadata": {},
   "outputs": [
    {
     "data": {
      "text/plain": [
       "array([7])"
      ]
     },
     "execution_count": 25,
     "metadata": {},
     "output_type": "execute_result"
    }
   ],
   "source": [
    "model1.predict([test33])"
   ]
  },
  {
   "cell_type": "code",
   "execution_count": 26,
   "metadata": {},
   "outputs": [
    {
     "data": {
      "image/png": "[encoded data removed]",
      "text/plain": [
       "<PIL.Image.Image image mode=L size=8x8 at 0x495ACF8CC0>"
      ]
     },
     "execution_count": 26,
     "metadata": {},
     "output_type": "execute_result"
    }
   ],
   "source": [
    "Imtest3"
   ]
  },
  {
   "cell_type": "code",
   "execution_count": 27,
   "metadata": {},
   "outputs": [
    {
     "data": {
      "text/plain": [
       "<Figure size 432x288 with 0 Axes>"
      ]
     },
     "metadata": {},
     "output_type": "display_data"
    },
    {
     "data": {
      "image/png": "[encoded data removed]",
      "text/plain": [
       "<Figure size 288x288 with 1 Axes>"
      ]
     },
     "metadata": {
      "needs_background": "light"
     },
     "output_type": "display_data"
    }
   ],
   "source": [
    "plt.gray()\n",
    "plt.matshow(test3)\n",
    "plt.show()"
   ]
  },
  {
   "cell_type": "code",
   "execution_count": 28,
   "metadata": {},
   "outputs": [],
   "source": [
    "test77 = test7.reshape(64,)"
   ]
  },
  {
   "cell_type": "code",
   "execution_count": 29,
   "metadata": {},
   "outputs": [
    {
     "data": {
      "text/plain": [
       "array([1])"
      ]
     },
     "execution_count": 29,
     "metadata": {},
     "output_type": "execute_result"
    }
   ],
   "source": [
    "model1.predict([test77])"
   ]
  },
  {
   "cell_type": "code",
   "execution_count": 30,
   "metadata": {},
   "outputs": [
    {
     "data": {
      "text/plain": [
       "<Figure size 432x288 with 0 Axes>"
      ]
     },
     "metadata": {},
     "output_type": "display_data"
    },
    {
     "data": {
      "image/png": "[encoded data removed]",
      "text/plain": [
       "<Figure size 288x288 with 1 Axes>"
      ]
     },
     "metadata": {
      "needs_background": "light"
     },
     "output_type": "display_data"
    }
   ],
   "source": [
    "plt.gray()\n",
    "plt.matshow(test7)\n",
    "plt.show()"
   ]
  },
  {
   "cell_type": "code",
   "execution_count": 31,
   "metadata": {},
   "outputs": [],
   "source": [
    "Imsam1 = Img00.open('C:\\\\Users\\\\Pc\\\\Downloads\\\\Random-Forest-Classification-master\\\\Random-Forest-Classification-master\\\\test_data\\\\sample.png').convert('L')"
   ]
  },
  {
   "cell_type": "code",
   "execution_count": 32,
   "metadata": {},
   "outputs": [
    {
     "data": {
      "image/png": "[encoded data removed]",
      "text/plain": [
       "<PIL.Image.Image image mode=L size=8x32 at 0x495A80EE10>"
      ]
     },
     "execution_count": 32,
     "metadata": {},
     "output_type": "execute_result"
    }
   ],
   "source": [
    "Imsam1"
   ]
  },
  {
   "cell_type": "code",
   "execution_count": 33,
   "metadata": {},
   "outputs": [],
   "source": [
    "Arsam1 = np.asarray(Imsam1)"
   ]
  },
  {
   "cell_type": "code",
   "execution_count": 34,
   "metadata": {},
   "outputs": [
    {
     "data": {
      "text/plain": [
       "array([[  0,   0,   0,   0,   0,   0,   0,   0],\n",
       "       [  0,   0,   0, 242, 239,   0,   0,   0],\n",
       "       [  0,   0,   0, 255, 255,   0,   0,   0],\n",
       "       [  0,   0,   0, 255, 255,   0,   0,   0],\n",
       "       [  0,   0,   0, 255, 255,   0,   0,   0],\n",
       "       [  0,   0,   0, 255, 253,   0,   0,   0],\n",
       "       [  0,   0,   0, 254, 255,  48,   0,  48],\n",
       "       [  0,   0,   0,   0,   0,   0,   0,   0],\n",
       "       [  0,   0,   0, 252, 253,   0,   0,   0],\n",
       "       [  0, 239, 255, 255, 255, 234,   0,   0],\n",
       "       [  0,   0,   0,   0, 253, 242,   0,   0],\n",
       "       [  0,   0,   0, 238, 254,  48,   0,   0],\n",
       "       [  0,   0, 244, 255,  48,   0,   0,   0],\n",
       "       [  0, 249, 255,  61,   0,   0,   0,   0],\n",
       "       [  0, 253, 255, 255, 255, 255,   5,   0],\n",
       "       [  0,   0,  11,   0,   0,   0,   0,   0],\n",
       "       [  0,   0,   0, 243, 243,   0,   0,   0],\n",
       "       [  0,  18, 239, 255, 254, 244,   0,   0],\n",
       "       [  0,   0,   0,   0,   0, 255,   0,   0],\n",
       "       [  0,   0,   0,   0, 250, 251,   0,   0],\n",
       "       [  0,   0,   0, 239, 255,  34,   0,   0],\n",
       "       [  0,   0,   0,   0, 254, 237,   0,   0],\n",
       "       [  0, 219,   0,   0,   0, 255,   0,   0],\n",
       "       [  0, 253, 255, 255, 255, 239,   0,   0],\n",
       "       [  0, 159,   0,   0,   0,   0,   0,   0],\n",
       "       [  0, 255,   0,   0,   0,   0,   0,   0],\n",
       "       [  0, 255,   0,   0, 219,  15,   0,   0],\n",
       "       [  0, 255, 255, 255, 255, 255, 191,   0],\n",
       "       [  0,   0,   0,   0, 255,   0,   0,   0],\n",
       "       [  0,   0,   0,   0, 255,   0,   0,   0],\n",
       "       [  0,   0,   0,   0, 223,   0,   0,   0],\n",
       "       [  0,   0,   0,   0,   0,   0,   0,   0]], dtype=uint8)"
      ]
     },
     "execution_count": 34,
     "metadata": {},
     "output_type": "execute_result"
    }
   ],
   "source": [
    "Arsam1"
   ]
  },
  {
   "cell_type": "code",
   "execution_count": 35,
   "metadata": {},
   "outputs": [
    {
     "data": {
      "text/plain": [
       "(32, 8)"
      ]
     },
     "execution_count": 35,
     "metadata": {},
     "output_type": "execute_result"
    }
   ],
   "source": [
    "Arsam1.shape"
   ]
  },
  {
   "cell_type": "code",
   "execution_count": 36,
   "metadata": {},
   "outputs": [],
   "source": [
    "arr = np.split(Arsam1,4,axis=0)"
   ]
  },
  {
   "cell_type": "code",
   "execution_count": 37,
   "metadata": {},
   "outputs": [
    {
     "data": {
      "text/plain": [
       "array([[  0,   0,   0,   0,   0,   0,   0,   0],\n",
       "       [  0,   0,   0, 242, 239,   0,   0,   0],\n",
       "       [  0,   0,   0, 255, 255,   0,   0,   0],\n",
       "       [  0,   0,   0, 255, 255,   0,   0,   0],\n",
       "       [  0,   0,   0, 255, 255,   0,   0,   0],\n",
       "       [  0,   0,   0, 255, 253,   0,   0,   0],\n",
       "       [  0,   0,   0, 254, 255,  48,   0,  48],\n",
       "       [  0,   0,   0,   0,   0,   0,   0,   0]], dtype=uint8)"
      ]
     },
     "execution_count": 37,
     "metadata": {},
     "output_type": "execute_result"
    }
   ],
   "source": [
    "arr[0]"
   ]
  },
  {
   "cell_type": "code",
   "execution_count": 38,
   "metadata": {},
   "outputs": [],
   "source": [
    "Arr0 = arr[0].reshape(64,)"
   ]
  },
  {
   "cell_type": "code",
   "execution_count": 39,
   "metadata": {},
   "outputs": [
    {
     "data": {
      "text/plain": [
       "array([1])"
      ]
     },
     "execution_count": 39,
     "metadata": {},
     "output_type": "execute_result"
    }
   ],
   "source": [
    "model1.predict([Arr0])"
   ]
  },
  {
   "cell_type": "code",
   "execution_count": 40,
   "metadata": {},
   "outputs": [
    {
     "data": {
      "text/plain": [
       "array([[  0,   0,   0, 252, 253,   0,   0,   0],\n",
       "       [  0, 239, 255, 255, 255, 234,   0,   0],\n",
       "       [  0,   0,   0,   0, 253, 242,   0,   0],\n",
       "       [  0,   0,   0, 238, 254,  48,   0,   0],\n",
       "       [  0,   0, 244, 255,  48,   0,   0,   0],\n",
       "       [  0, 249, 255,  61,   0,   0,   0,   0],\n",
       "       [  0, 253, 255, 255, 255, 255,   5,   0],\n",
       "       [  0,   0,  11,   0,   0,   0,   0,   0]], dtype=uint8)"
      ]
     },
     "execution_count": 40,
     "metadata": {},
     "output_type": "execute_result"
    }
   ],
   "source": [
    "arr[1]"
   ]
  },
  {
   "cell_type": "code",
   "execution_count": 41,
   "metadata": {},
   "outputs": [],
   "source": [
    "Arr1 = arr[1].reshape(64,)"
   ]
  },
  {
   "cell_type": "code",
   "execution_count": 42,
   "metadata": {},
   "outputs": [
    {
     "data": {
      "text/plain": [
       "array([1])"
      ]
     },
     "execution_count": 42,
     "metadata": {},
     "output_type": "execute_result"
    }
   ],
   "source": [
    "model1.predict([Arr1])"
   ]
  },
  {
   "cell_type": "code",
   "execution_count": 43,
   "metadata": {},
   "outputs": [
    {
     "data": {
      "text/plain": [
       "array([[  0,   0,   0, 243, 243,   0,   0,   0],\n",
       "       [  0,  18, 239, 255, 254, 244,   0,   0],\n",
       "       [  0,   0,   0,   0,   0, 255,   0,   0],\n",
       "       [  0,   0,   0,   0, 250, 251,   0,   0],\n",
       "       [  0,   0,   0, 239, 255,  34,   0,   0],\n",
       "       [  0,   0,   0,   0, 254, 237,   0,   0],\n",
       "       [  0, 219,   0,   0,   0, 255,   0,   0],\n",
       "       [  0, 253, 255, 255, 255, 239,   0,   0]], dtype=uint8)"
      ]
     },
     "execution_count": 43,
     "metadata": {},
     "output_type": "execute_result"
    }
   ],
   "source": [
    "arr[2]"
   ]
  },
  {
   "cell_type": "code",
   "execution_count": 44,
   "metadata": {},
   "outputs": [],
   "source": [
    "Arr2 = arr[2].reshape(64,)"
   ]
  },
  {
   "cell_type": "code",
   "execution_count": 45,
   "metadata": {},
   "outputs": [
    {
     "data": {
      "text/plain": [
       "array([3])"
      ]
     },
     "execution_count": 45,
     "metadata": {},
     "output_type": "execute_result"
    }
   ],
   "source": [
    "\n"
   ]
  },
  {
   "cell_type": "code",
   "execution_count": 46,
   "metadata": {},
   "outputs": [
    {
     "data": {
      "text/plain": [
       "array([[  0, 159,   0,   0,   0,   0,   0,   0],\n",
       "       [  0, 255,   0,   0,   0,   0,   0,   0],\n",
       "       [  0, 255,   0,   0, 219,  15,   0,   0],\n",
       "       [  0, 255, 255, 255, 255, 255, 191,   0],\n",
       "       [  0,   0,   0,   0, 255,   0,   0,   0],\n",
       "       [  0,   0,   0,   0, 255,   0,   0,   0],\n",
       "       [  0,   0,   0,   0, 223,   0,   0,   0],\n",
       "       [  0,   0,   0,   0,   0,   0,   0,   0]], dtype=uint8)"
      ]
     },
     "execution_count": 46,
     "metadata": {},
     "output_type": "execute_result"
    }
   ],
   "source": [
    "arr[3]"
   ]
  },
  {
   "cell_type": "code",
   "execution_count": 47,
   "metadata": {},
   "outputs": [],
   "source": [
    "Arr3 = arr[3].reshape(64,)"
   ]
  },
  {
   "cell_type": "code",
   "execution_count": 48,
   "metadata": {},
   "outputs": [
    {
     "data": {
      "text/plain": [
       "array([7])"
      ]
     },
     "execution_count": 48,
     "metadata": {},
     "output_type": "execute_result"
    }
   ],
   "source": [
    "model1.predict([Arr3])"
   ]
  },
  {
   "cell_type": "code",
   "execution_count": 54,
   "metadata": {},
   "outputs": [],
   "source": [
    "Imdl = Img00.open('C:\\\\Users\\\\Pc\\\\Downloads\\\\Random-Forest-Classification-master\\\\Random-Forest-Classification-master\\\\test_data\\\\paint.jpg').convert('L')"
   ]
  },
  {
   "cell_type": "code",
   "execution_count": 55,
   "metadata": {},
   "outputs": [
    {
     "data": {
      "image/png": "[encoded data removed]",
      "text/plain": [
       "<PIL.Image.Image image mode=L size=16x24 at 0x495BC5F128>"
      ]
     },
     "execution_count": 55,
     "metadata": {},
     "output_type": "execute_result"
    }
   ],
   "source": [
    "Imdl"
   ]
  },
  {
   "cell_type": "code",
   "execution_count": 56,
   "metadata": {},
   "outputs": [],
   "source": [
    "Imarry = np.asarray(Imdl)"
   ]
  },
  {
   "cell_type": "code",
   "execution_count": 57,
   "metadata": {},
   "outputs": [
    {
     "data": {
      "text/plain": [
       "(24, 16)"
      ]
     },
     "execution_count": 57,
     "metadata": {},
     "output_type": "execute_result"
    }
   ],
   "source": [
    "Imarry.shape"
   ]
  },
  {
   "cell_type": "code",
   "execution_count": 60,
   "metadata": {},
   "outputs": [
    {
     "data": {
      "text/plain": [
       "array([[255, 253, 255, 253, 253, 254, 255, 252, 255, 252, 255, 254, 254,\n",
       "        254, 254, 253],\n",
       "       [254, 255, 251, 254, 254, 255, 255, 253, 252, 255, 252, 254, 251,\n",
       "        255, 253, 255],\n",
       "       [255, 252, 254, 254, 229,  32, 194, 255, 251, 217,   4,  14,  83,\n",
       "        255, 251, 254],\n",
       "       [252, 251, 255,   5,   1,   3, 253, 253, 255,   0, 161,  35,   3,\n",
       "        222, 254, 253],\n",
       "       [255, 255, 255, 144,  61,   1, 255, 252, 253, 255, 255, 113,   1,\n",
       "        255, 239, 255],\n",
       "       [247, 254, 252, 255,  56,   0, 255, 255, 253, 254, 231,   0, 255,\n",
       "        195, 255, 253],\n",
       "       [255, 254, 253, 250,   7,   1, 245, 251, 254, 174,   1,  79,   0,\n",
       "         65, 254, 255],\n",
       "       [254, 252, 255,  92,  31,  41,  77, 255, 244,  17,  76,  62,  46,\n",
       "        127, 255, 254],\n",
       "       [255, 247, 255, 250, 255, 253, 255, 252, 255, 255, 252, 255, 252,\n",
       "        253, 255, 252],\n",
       "       [254, 255, 255, 212,  32,   1, 127, 254, 254, 254, 252, 177,  49,\n",
       "        255, 252, 255],\n",
       "       [255, 249, 254, 118, 141,  37,   0, 255, 251, 255, 110,   4, 130,\n",
       "        251, 255, 253],\n",
       "       [254, 255, 253, 255, 117,   0, 226, 255, 255, 160,  10,   0, 220,\n",
       "        255, 254, 254],\n",
       "       [255, 252, 253, 252, 154,  73,   0, 248, 247,   2,  85,   3,   1,\n",
       "        133, 255, 255],\n",
       "       [253, 252, 255,  61, 222, 100,   0, 244, 234, 126,  91,   0,  65,\n",
       "        253, 255, 250],\n",
       "       [252, 255, 242,   0,   4,  43, 241, 253, 254, 255,   0,  17,  11,\n",
       "        207, 251, 255],\n",
       "       [255, 253, 255, 255, 252, 255, 254, 250, 254, 254, 255, 251, 254,\n",
       "        255, 250, 255],\n",
       "       [255, 255, 253, 182,  48,  50,   4, 233, 254, 253, 148,  16,   1,\n",
       "         68, 255, 253],\n",
       "       [254, 249, 255, 149,  59, 156, 195, 254, 253, 169,   0, 242, 221,\n",
       "        205, 255, 254],\n",
       "       [255, 254, 252,  17,  37,   0, 141, 254, 253,   0,  46, 107,   0,\n",
       "        192, 255, 254],\n",
       "       [255, 255, 252, 170, 166,  48,   0, 254, 254,   0,  30, 103,   1,\n",
       "          2, 255, 254],\n",
       "       [252, 252, 239,  44, 254,  20,   5, 253, 251,   3,   0, 255,   0,\n",
       "        131, 255, 252],\n",
       "       [253, 255, 207,  14,   5,  73, 254, 252, 254, 253,  28,   1, 193,\n",
       "        255, 253, 255],\n",
       "       [255, 253, 251, 255, 251, 254, 137, 188, 225, 166, 255, 254, 255,\n",
       "        254, 255, 252],\n",
       "       [254, 255, 253, 253, 255, 254, 255, 237, 251, 237, 255, 252, 253,\n",
       "        253, 254, 255]], dtype=uint8)"
      ]
     },
     "execution_count": 60,
     "metadata": {},
     "output_type": "execute_result"
    }
   ],
   "source": [
    "Imarry.split()"
   ]
  },
  {
   "cell_type": "code",
   "execution_count": 68,
   "metadata": {},
   "outputs": [],
   "source": [
    "ImARR = np.split(Imarry,3,axis=0)"
   ]
  },
  {
   "cell_type": "code",
   "execution_count": 79,
   "metadata": {},
   "outputs": [],
   "source": [
    "ImARR22 = np.split(ImARR[1],2,axis=1)"
   ]
  },
  {
   "cell_type": "code",
   "execution_count": 80,
   "metadata": {},
   "outputs": [],
   "source": [
    "t0 = ImARR11[0].reshape(64,)"
   ]
  },
  {
   "cell_type": "code",
   "execution_count": 81,
   "metadata": {},
   "outputs": [
    {
     "data": {
      "text/plain": [
       "(64,)"
      ]
     },
     "execution_count": 81,
     "metadata": {},
     "output_type": "execute_result"
    }
   ],
   "source": [
    "two.shape"
   ]
  },
  {
   "cell_type": "code",
   "execution_count": 82,
   "metadata": {},
   "outputs": [
    {
     "data": {
      "text/plain": [
       "array([0])"
      ]
     },
     "execution_count": 82,
     "metadata": {},
     "output_type": "execute_result"
    }
   ],
   "source": [
    "model1.predict([two])"
   ]
  },
  {
   "cell_type": "code",
   "execution_count": 85,
   "metadata": {},
   "outputs": [
    {
     "data": {
      "text/plain": [
       "<Figure size 432x288 with 0 Axes>"
      ]
     },
     "metadata": {},
     "output_type": "display_data"
    },
    {
     "data": {
      "image/png": "[encoded data removed]",
      "text/plain": [
       "<Figure size 576x288 with 1 Axes>"
      ]
     },
     "metadata": {
      "needs_background": "light"
     },
     "output_type": "display_data"
    }
   ],
   "source": [
    "plt.gray()\n",
    "plt.matshow(ImARR[1])\n",
    "plt.show()"
   ]
  },
  {
   "cell_type": "code",
   "execution_count": null,
   "metadata": {},
   "outputs": [],
   "source": []
  }
 ],
 "metadata": {
  "kernelspec": {
   "display_name": "Python 3",
   "language": "python",
   "name": "python3"
  },
  "language_info": {
   "codemirror_mode": {
    "name": "ipython",
    "version": 3
   },
   "file_extension": ".py",
   "mimetype": "text/x-python",
   "name": "python",
   "nbconvert_exporter": "python",
   "pygments_lexer": "ipython3",
   "version": "3.7.3"
  }
 },
 "nbformat": 4,
 "nbformat_minor": 2
}
